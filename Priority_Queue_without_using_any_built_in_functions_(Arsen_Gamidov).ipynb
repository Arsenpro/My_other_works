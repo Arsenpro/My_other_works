{
  "nbformat": 4,
  "nbformat_minor": 0,
  "metadata": {
    "colab": {
      "provenance": [],
      "collapsed_sections": []
    },
    "kernelspec": {
      "name": "python3",
      "display_name": "Python 3"
    },
    "language_info": {
      "name": "python"
    }
  },
  "cells": [
    {
      "cell_type": "code",
      "execution_count": null,
      "metadata": {
        "id": "tfl6G0HHV0Vo"
      },
      "outputs": [],
      "source": [
        "class myDeque:\n",
        "    \n",
        "    def __init__(self, s: str): #инициализация очереди\n",
        "        self.queue = [i for i in s]\n",
        "        \n",
        "    def insert(self, s: str): #добавление объекта в конец очереди\n",
        "        self.queue.append(s)\n",
        "        \n",
        "    def pop(self): #удаление первого объекта очереди\n",
        "        return self.queue.pop(0)\n",
        "    \n",
        "    def is_empty(self): #метод для случая \"пустой\" очереди\n",
        "        if len(self.queue) == 0: \n",
        "            return True\n",
        "        else:\n",
        "            return False\n",
        "    \n",
        "    def __eq__(self, other): #метод для проверки равенства очередей\n",
        "        if len(self.queue) == len(other.queue) and self.queue[0] == other.queue[0]:\n",
        "            return True\n",
        "        else:\n",
        "            return False\n",
        "        \n",
        "    def __gt__(self, other): #метод для проверки \"большей\" очереди\n",
        "        if len(self.queue) > len(other.queue):\n",
        "            return True\n",
        "        elif len(self.queue) == len(other.queue):\n",
        "            if self.queue[0] < other.queue[0]:\n",
        "                return True\n",
        "            else:\n",
        "                return False\n",
        "        else:\n",
        "            return False"
      ]
    },
    {
      "cell_type": "code",
      "source": [
        "#Проверка\n",
        "# AA == AB\n",
        "a = myDeque('AB')\n",
        "b = myDeque('AB')\n",
        "assert a == b, 'Тест равенства не пройден'\n",
        "\n",
        "# ABB > BBB\n",
        "a = myDeque('ABB')\n",
        "b = myDeque('BBB')\n",
        "\n",
        "assert a > b, 'Тест \"Больше чем\" №1 не пройден'\n",
        "\n",
        "\n",
        "# AA < BBB\n",
        "a = myDeque('AA')\n",
        "b = myDeque('BBB')\n",
        "\n",
        "assert b > a, 'Тест \"Больше чем\" №2 не пройден'\n",
        "\n",
        "# ABBBCAABB > BBBBCAABB\n",
        "a = myDeque('ABBBCAABB')\n",
        "b = myDeque('BBBBCAABB')\n",
        "assert a > b, 'Тест \"Больше чем\" №3 не пройден'"
      ],
      "metadata": {
        "id": "-D_VAJgbJPMc"
      },
      "execution_count": null,
      "outputs": []
    },
    {
      "cell_type": "code",
      "source": [
        "#функция для разбора двух параллельных очередей\n",
        "\n",
        "def parse_deque(a, b):\n",
        "    \n",
        "    while not (a.is_empty() and b.is_empty()): \n",
        "        if a > b:\n",
        "            print(a.pop())\n",
        "        else:\n",
        "            print(b.pop())\n",
        "            \n",
        "a = myDeque('AA')\n",
        "b = myDeque('BBB')\n",
        "\n",
        "parse_deque(a, b)"
      ],
      "metadata": {
        "colab": {
          "base_uri": "https://localhost:8080/"
        },
        "id": "KFcEmc_TJ6wz",
        "outputId": "eb40789b-d013-422e-d0c3-98cf8d842818"
      },
      "execution_count": null,
      "outputs": [
        {
          "output_type": "stream",
          "name": "stdout",
          "text": [
            "B\n",
            "A\n",
            "B\n",
            "A\n",
            "B\n"
          ]
        }
      ]
    },
    {
      "cell_type": "code",
      "source": [],
      "metadata": {
        "id": "gfIQUVYfKwJX"
      },
      "execution_count": null,
      "outputs": []
    }
  ]
}